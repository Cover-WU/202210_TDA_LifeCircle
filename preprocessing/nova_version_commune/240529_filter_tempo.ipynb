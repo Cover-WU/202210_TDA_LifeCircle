{
 "cells": [
  {
   "cell_type": "code",
   "execution_count": 5,
   "metadata": {},
   "outputs": [
    {
     "data": {
      "text/plain": [
       "'e:\\\\Programming\\\\R\\\\202204_project_community_tda'"
      ]
     },
     "execution_count": 5,
     "metadata": {},
     "output_type": "execute_result"
    }
   ],
   "source": [
    "import os\n",
    "\n",
    "os.chdir('e:\\\\Programming\\\\R\\\\202204_project_community_tda')\n",
    "# get the working directory\n",
    "os.getcwd()"
   ]
  },
  {
   "cell_type": "code",
   "execution_count": 18,
   "metadata": {},
   "outputs": [
    {
     "name": "stderr",
     "output_type": "stream",
     "text": [
      "d:\\Application\\Conda\\envs\\geoneuro\\lib\\site-packages\\geopandas\\_compat.py:153: UserWarning: The Shapely GEOS version (3.10.1-CAPI-1.16.0) is incompatible with the GEOS version PyGEOS was compiled with (3.10.4-CAPI-1.16.2). Conversions between both will be slow.\n",
      "  set_use_pygeos()\n",
      "C:\\Users\\Cover\\AppData\\Local\\Temp\\ipykernel_64492\\642189860.py:3: DeprecationWarning: GeoPandas is set to use PyGEOS over Shapely. PyGEOS support is deprecatedand will be removed in GeoPandas 1.0, released in the Q1 of 2024. Please migrate to Shapely 2.0 (https://geopandas.org/en/stable/docs/user_guide/pygeos_to_shapely.html).\n",
      "  import geopandas as gpd\n"
     ]
    }
   ],
   "source": [
    "import pandas as pd\n",
    "import numpy as np\n",
    "import geopandas as gpd\n",
    "import matplotlib.pyplot as plt"
   ]
  },
  {
   "cell_type": "code",
   "execution_count": 273,
   "metadata": {},
   "outputs": [],
   "source": [
    "file_path = './data/commune_nov_dataset/'\n",
    "file_list = os.listdir(file_path)"
   ]
  },
  {
   "cell_type": "code",
   "execution_count": 183,
   "metadata": {},
   "outputs": [],
   "source": [
    "time_buffer = pd.Timedelta('15 minutes')\n",
    "\n",
    "df_list = [pd.read_csv(file_path + file_list[idx]) for idx in range(len(file_list))]\n",
    "\n",
    "def convert_timestamp(df):\n",
    "    df.pid = df.pid.astype('int')\n",
    "    df.t_start, df.t_end = pd.to_datetime(df.t_start), pd.to_datetime(df.t_end)\n",
    "    return df\n",
    "\n",
    "df_list = [convert_timestamp(df) for df in df_list]\n"
   ]
  },
  {
   "cell_type": "code",
   "execution_count": 212,
   "metadata": {},
   "outputs": [
    {
     "data": {
      "text/plain": [
       "1681797"
      ]
     },
     "execution_count": 212,
     "metadata": {},
     "output_type": "execute_result"
    }
   ],
   "source": [
    "sum([len(df) for df in df_list])"
   ]
  },
  {
   "cell_type": "code",
   "execution_count": 19,
   "metadata": {},
   "outputs": [],
   "source": [
    "# read the GIS shapefile data\n",
    "gis_df = gpd.read_file('./data/communities/communes35.shp')\n",
    "gis_df.name.unique()"
   ]
  },
  {
   "cell_type": "code",
   "execution_count": 184,
   "metadata": {},
   "outputs": [],
   "source": [
    "# create 300m buffer for each community\n",
    "def create_polygon_buffer(polygon_gdf, buffer_width_in_meters=250):\n",
    "    meter_projection = 'EPSG:32650'\n",
    "    if polygon_gdf.crs != meter_projection:\n",
    "        polygon_gdf = polygon_gdf.to_crs(meter_projection)\n",
    "    polygon_gdf['geometry'] = polygon_gdf.buffer(buffer_width_in_meters)\n",
    "    polygon_gdf = polygon_gdf.to_crs('EPSG:4326')\n",
    "    return polygon_gdf"
   ]
  },
  {
   "cell_type": "code",
   "execution_count": 185,
   "metadata": {},
   "outputs": [],
   "source": [
    "# match the corresponding community\n",
    "gis_df_list = [gis_df[gis_df.name.apply(lambda s: s in df_list[idx].commune[0])] for idx in range(len(df_list))]\n",
    "gis_df_list = [create_polygon_buffer(gis_commune) for gis_commune in gis_df_list]"
   ]
  },
  {
   "cell_type": "code",
   "execution_count": 186,
   "metadata": {},
   "outputs": [],
   "source": [
    "def residential_identify(df, gdf_commune):\n",
    "    gdf_act = df.copy()\n",
    "    gdf_act = gpd.GeoDataFrame(gdf_act, geometry=gpd.points_from_xy(gdf_act.longitude, gdf_act.latitude), crs='EPSG:4326')\n",
    "    gdf_drop_within = gpd.sjoin(gdf_act, gdf_commune, how='inner', predicate='within')\n",
    "    gdf_drop_within['commune_pts'] = True\n",
    "    return gdf_drop_within"
   ]
  },
  {
   "cell_type": "code",
   "execution_count": 187,
   "metadata": {},
   "outputs": [],
   "source": [
    "residential_identify_pair_list = list(zip(df_list, gis_df_list))\n",
    "gdf_drop_within_list = [residential_identify(*pair) for pair in residential_identify_pair_list]"
   ]
  },
  {
   "cell_type": "code",
   "execution_count": 188,
   "metadata": {},
   "outputs": [],
   "source": [
    "# kick the impossbile activities whose velocity exceed 120 km/h\n",
    "clip_list = [create_polygon_buffer(gis_commune, 3e4) for gis_commune in gis_df_list]"
   ]
  },
  {
   "cell_type": "code",
   "execution_count": 190,
   "metadata": {},
   "outputs": [],
   "source": [
    "def clip_impossible(df, gdf_clip):\n",
    "    gdf_act = df.copy()\n",
    "    gdf_act = gpd.GeoDataFrame(gdf_act, geometry=gpd.points_from_xy(gdf_act.longitude, gdf_act.latitude), crs='EPSG:4326')\n",
    "    gdf_act = gpd.clip(gdf_act, gdf_clip)\n",
    "    gdf_act.sort_values(by=['pid', 't_start'], inplace=True)\n",
    "    return gdf_act"
   ]
  },
  {
   "cell_type": "code",
   "execution_count": 191,
   "metadata": {},
   "outputs": [],
   "source": [
    "outlier_clip_pair_list = list(zip(df_list, clip_list))\n",
    "gdf_possible_act_list = [clip_impossible(*pair) for pair in outlier_clip_pair_list]"
   ]
  },
  {
   "cell_type": "code",
   "execution_count": 192,
   "metadata": {},
   "outputs": [],
   "source": [
    "gdf_possible_act, gdf_drop_within = pd.concat(gdf_possible_act_list), pd.concat(gdf_drop_within_list)"
   ]
  },
  {
   "cell_type": "code",
   "execution_count": 193,
   "metadata": {},
   "outputs": [
    {
     "name": "stdout",
     "output_type": "stream",
     "text": [
      "<class 'geopandas.geodataframe.GeoDataFrame'>\n",
      "Index: 561432 entries, 0 to 2934\n",
      "Data columns (total 23 columns):\n",
      " #   Column       Non-Null Count   Dtype         \n",
      "---  ------       --------------   -----         \n",
      " 0   commune      561432 non-null  object        \n",
      " 1   pid          561432 non-null  int32         \n",
      " 2   t_start      561432 non-null  datetime64[ns]\n",
      " 3   t_end        561432 non-null  datetime64[ns]\n",
      " 4   longitude    561432 non-null  float64       \n",
      " 5   latitude     561432 non-null  float64       \n",
      " 6   X            561432 non-null  float64       \n",
      " 7   Y            561432 non-null  float64       \n",
      " 8   geometry     561432 non-null  geometry      \n",
      " 9   index_right  561432 non-null  int64         \n",
      " 10  id           561432 non-null  object        \n",
      " 11  name         561432 non-null  object        \n",
      " 12  address      561432 non-null  object        \n",
      " 13  OBJECTID     561432 non-null  int64         \n",
      " 14  Field1       561432 non-null  int64         \n",
      " 15  Field2       561432 non-null  int64         \n",
      " 16  name_1       561432 non-null  object        \n",
      " 17  scale        561432 non-null  int64         \n",
      " 18  district     561432 non-null  object        \n",
      " 19  Shape_Leng   561432 non-null  float64       \n",
      " 20  Shape_Area   561432 non-null  float64       \n",
      " 21  Encoding     561432 non-null  int64         \n",
      " 22  commune_pts  561432 non-null  bool          \n",
      "dtypes: bool(1), datetime64[ns](2), float64(6), geometry(1), int32(1), int64(6), object(6)\n",
      "memory usage: 96.9+ MB\n"
     ]
    }
   ],
   "source": [
    "gdf_drop_within.info()"
   ]
  },
  {
   "cell_type": "code",
   "execution_count": 194,
   "metadata": {},
   "outputs": [
    {
     "data": {
      "text/html": [
       "<div>\n",
       "<style scoped>\n",
       "    .dataframe tbody tr th:only-of-type {\n",
       "        vertical-align: middle;\n",
       "    }\n",
       "\n",
       "    .dataframe tbody tr th {\n",
       "        vertical-align: top;\n",
       "    }\n",
       "\n",
       "    .dataframe thead th {\n",
       "        text-align: right;\n",
       "    }\n",
       "</style>\n",
       "<table border=\"1\" class=\"dataframe\">\n",
       "  <thead>\n",
       "    <tr style=\"text-align: right;\">\n",
       "      <th></th>\n",
       "      <th>commune</th>\n",
       "      <th>pid</th>\n",
       "      <th>t_start</th>\n",
       "      <th>t_end</th>\n",
       "      <th>longitude</th>\n",
       "      <th>latitude</th>\n",
       "      <th>X</th>\n",
       "      <th>Y</th>\n",
       "      <th>geometry</th>\n",
       "      <th>commune_pts</th>\n",
       "    </tr>\n",
       "  </thead>\n",
       "  <tbody>\n",
       "    <tr>\n",
       "      <th>0</th>\n",
       "      <td>益田村</td>\n",
       "      <td>861</td>\n",
       "      <td>2019-11-01 00:03:26</td>\n",
       "      <td>2019-11-03 09:51:18</td>\n",
       "      <td>114.048885</td>\n",
       "      <td>22.517184</td>\n",
       "      <td>196404.738631</td>\n",
       "      <td>2.493070e+06</td>\n",
       "      <td>POINT (114.04888 22.51718)</td>\n",
       "      <td>True</td>\n",
       "    </tr>\n",
       "    <tr>\n",
       "      <th>1</th>\n",
       "      <td>益田村</td>\n",
       "      <td>861</td>\n",
       "      <td>2019-11-03 14:13:10</td>\n",
       "      <td>2019-11-03 16:07:56</td>\n",
       "      <td>114.048885</td>\n",
       "      <td>22.517184</td>\n",
       "      <td>196404.738631</td>\n",
       "      <td>2.493070e+06</td>\n",
       "      <td>POINT (114.04888 22.51718)</td>\n",
       "      <td>True</td>\n",
       "    </tr>\n",
       "    <tr>\n",
       "      <th>2</th>\n",
       "      <td>益田村</td>\n",
       "      <td>861</td>\n",
       "      <td>2019-11-03 17:32:41</td>\n",
       "      <td>2019-11-03 18:46:08</td>\n",
       "      <td>114.065743</td>\n",
       "      <td>22.631277</td>\n",
       "      <td>198388.859223</td>\n",
       "      <td>2.505677e+06</td>\n",
       "      <td>POINT (114.06574 22.63128)</td>\n",
       "      <td>False</td>\n",
       "    </tr>\n",
       "    <tr>\n",
       "      <th>3</th>\n",
       "      <td>益田村</td>\n",
       "      <td>861</td>\n",
       "      <td>2019-11-03 19:28:55</td>\n",
       "      <td>2019-11-03 22:11:32</td>\n",
       "      <td>113.915830</td>\n",
       "      <td>22.487217</td>\n",
       "      <td>182639.072479</td>\n",
       "      <td>2.490026e+06</td>\n",
       "      <td>POINT (113.91583 22.48722)</td>\n",
       "      <td>False</td>\n",
       "    </tr>\n",
       "    <tr>\n",
       "      <th>4</th>\n",
       "      <td>益田村</td>\n",
       "      <td>861</td>\n",
       "      <td>2019-11-04 00:48:10</td>\n",
       "      <td>2019-11-04 12:59:41</td>\n",
       "      <td>114.048885</td>\n",
       "      <td>22.517184</td>\n",
       "      <td>196404.738631</td>\n",
       "      <td>2.493070e+06</td>\n",
       "      <td>POINT (114.04888 22.51718)</td>\n",
       "      <td>True</td>\n",
       "    </tr>\n",
       "    <tr>\n",
       "      <th>...</th>\n",
       "      <td>...</td>\n",
       "      <td>...</td>\n",
       "      <td>...</td>\n",
       "      <td>...</td>\n",
       "      <td>...</td>\n",
       "      <td>...</td>\n",
       "      <td>...</td>\n",
       "      <td>...</td>\n",
       "      <td>...</td>\n",
       "      <td>...</td>\n",
       "    </tr>\n",
       "    <tr>\n",
       "      <th>1655965</th>\n",
       "      <td>龙光玖云著</td>\n",
       "      <td>37424317</td>\n",
       "      <td>2019-11-26 18:37:49</td>\n",
       "      <td>2019-11-26 20:58:06</td>\n",
       "      <td>114.337725</td>\n",
       "      <td>22.689845</td>\n",
       "      <td>226476.987565</td>\n",
       "      <td>2.511639e+06</td>\n",
       "      <td>POINT (114.33772 22.68984)</td>\n",
       "      <td>False</td>\n",
       "    </tr>\n",
       "    <tr>\n",
       "      <th>1655966</th>\n",
       "      <td>龙光玖云著</td>\n",
       "      <td>37424317</td>\n",
       "      <td>2019-11-27 08:04:57</td>\n",
       "      <td>2019-11-29 21:34:52</td>\n",
       "      <td>114.353638</td>\n",
       "      <td>22.708351</td>\n",
       "      <td>228149.295700</td>\n",
       "      <td>2.513660e+06</td>\n",
       "      <td>POINT (114.35364 22.70835)</td>\n",
       "      <td>False</td>\n",
       "    </tr>\n",
       "    <tr>\n",
       "      <th>1655967</th>\n",
       "      <td>龙光玖云著</td>\n",
       "      <td>37424317</td>\n",
       "      <td>2019-11-30 09:41:07</td>\n",
       "      <td>2019-11-30 10:15:57</td>\n",
       "      <td>114.324039</td>\n",
       "      <td>22.684798</td>\n",
       "      <td>225060.150495</td>\n",
       "      <td>2.511105e+06</td>\n",
       "      <td>POINT (114.32404 22.68480)</td>\n",
       "      <td>True</td>\n",
       "    </tr>\n",
       "    <tr>\n",
       "      <th>1655968</th>\n",
       "      <td>龙光玖云著</td>\n",
       "      <td>37424317</td>\n",
       "      <td>2019-11-30 10:59:27</td>\n",
       "      <td>2019-11-30 15:22:47</td>\n",
       "      <td>114.379799</td>\n",
       "      <td>22.708169</td>\n",
       "      <td>230837.756819</td>\n",
       "      <td>2.513592e+06</td>\n",
       "      <td>POINT (114.37980 22.70817)</td>\n",
       "      <td>False</td>\n",
       "    </tr>\n",
       "    <tr>\n",
       "      <th>1655969</th>\n",
       "      <td>龙光玖云著</td>\n",
       "      <td>37424317</td>\n",
       "      <td>2019-11-30 15:31:04</td>\n",
       "      <td>2019-11-30 19:20:30</td>\n",
       "      <td>114.324039</td>\n",
       "      <td>22.684798</td>\n",
       "      <td>225060.150495</td>\n",
       "      <td>2.511105e+06</td>\n",
       "      <td>POINT (114.32404 22.68480)</td>\n",
       "      <td>True</td>\n",
       "    </tr>\n",
       "  </tbody>\n",
       "</table>\n",
       "<p>1655970 rows × 10 columns</p>\n",
       "</div>"
      ],
      "text/plain": [
       "        commune       pid             t_start               t_end   longitude  \\\n",
       "0           益田村       861 2019-11-01 00:03:26 2019-11-03 09:51:18  114.048885   \n",
       "1           益田村       861 2019-11-03 14:13:10 2019-11-03 16:07:56  114.048885   \n",
       "2           益田村       861 2019-11-03 17:32:41 2019-11-03 18:46:08  114.065743   \n",
       "3           益田村       861 2019-11-03 19:28:55 2019-11-03 22:11:32  113.915830   \n",
       "4           益田村       861 2019-11-04 00:48:10 2019-11-04 12:59:41  114.048885   \n",
       "...         ...       ...                 ...                 ...         ...   \n",
       "1655965   龙光玖云著  37424317 2019-11-26 18:37:49 2019-11-26 20:58:06  114.337725   \n",
       "1655966   龙光玖云著  37424317 2019-11-27 08:04:57 2019-11-29 21:34:52  114.353638   \n",
       "1655967   龙光玖云著  37424317 2019-11-30 09:41:07 2019-11-30 10:15:57  114.324039   \n",
       "1655968   龙光玖云著  37424317 2019-11-30 10:59:27 2019-11-30 15:22:47  114.379799   \n",
       "1655969   龙光玖云著  37424317 2019-11-30 15:31:04 2019-11-30 19:20:30  114.324039   \n",
       "\n",
       "          latitude              X             Y                    geometry  \\\n",
       "0        22.517184  196404.738631  2.493070e+06  POINT (114.04888 22.51718)   \n",
       "1        22.517184  196404.738631  2.493070e+06  POINT (114.04888 22.51718)   \n",
       "2        22.631277  198388.859223  2.505677e+06  POINT (114.06574 22.63128)   \n",
       "3        22.487217  182639.072479  2.490026e+06  POINT (113.91583 22.48722)   \n",
       "4        22.517184  196404.738631  2.493070e+06  POINT (114.04888 22.51718)   \n",
       "...            ...            ...           ...                         ...   \n",
       "1655965  22.689845  226476.987565  2.511639e+06  POINT (114.33772 22.68984)   \n",
       "1655966  22.708351  228149.295700  2.513660e+06  POINT (114.35364 22.70835)   \n",
       "1655967  22.684798  225060.150495  2.511105e+06  POINT (114.32404 22.68480)   \n",
       "1655968  22.708169  230837.756819  2.513592e+06  POINT (114.37980 22.70817)   \n",
       "1655969  22.684798  225060.150495  2.511105e+06  POINT (114.32404 22.68480)   \n",
       "\n",
       "         commune_pts  \n",
       "0               True  \n",
       "1               True  \n",
       "2              False  \n",
       "3              False  \n",
       "4               True  \n",
       "...              ...  \n",
       "1655965        False  \n",
       "1655966        False  \n",
       "1655967         True  \n",
       "1655968        False  \n",
       "1655969         True  \n",
       "\n",
       "[1655970 rows x 10 columns]"
      ]
     },
     "execution_count": 194,
     "metadata": {},
     "output_type": "execute_result"
    }
   ],
   "source": [
    "# join the drop within \n",
    "gdf_overlaied = pd.merge(gdf_possible_act, gdf_drop_within[['commune', 'pid', 't_start', 'commune_pts']], on=['commune', 'pid', 't_start'], how='left')\n",
    "gdf_overlaied['commune_pts'] = gdf_overlaied['commune_pts'].fillna(False)\n",
    "gdf_overlaied"
   ]
  },
  {
   "cell_type": "code",
   "execution_count": 196,
   "metadata": {},
   "outputs": [],
   "source": [
    "gdf_overlaied.loc[gdf_overlaied.commune_pts, 'commune_upper_limit'] = gdf_overlaied.loc[gdf_overlaied.commune_pts, 't_end'] + time_buffer\n",
    "gdf_overlaied.loc[gdf_overlaied.commune_pts, 'commune_lower_limit'] = gdf_overlaied.loc[gdf_overlaied.commune_pts, 't_start'] - time_buffer"
   ]
  },
  {
   "cell_type": "code",
   "execution_count": 197,
   "metadata": {},
   "outputs": [],
   "source": [
    "gdf_overlaied.commune_upper_limit = gdf_overlaied.groupby(['commune', 'pid']).commune_upper_limit.ffill()\n",
    "gdf_overlaied.commune_lower_limit = gdf_overlaied.groupby(['commune', 'pid']).commune_lower_limit.bfill()"
   ]
  },
  {
   "cell_type": "code",
   "execution_count": 208,
   "metadata": {},
   "outputs": [],
   "source": [
    "gdf_filtered = gdf_overlaied.loc[(gdf_overlaied.commune_pts) | (~gdf_overlaied.commune_pts & (gdf_overlaied.t_start < gdf_overlaied.commune_upper_limit)) | (~gdf_overlaied.commune_pts & (gdf_overlaied.t_end > gdf_overlaied.commune_lower_limit))]"
   ]
  },
  {
   "cell_type": "code",
   "execution_count": 209,
   "metadata": {},
   "outputs": [],
   "source": [
    "gdf_filtered = gdf_filtered.copy()\n",
    "gdf_filtered.drop(columns = ['commune_upper_limit', 'commune_lower_limit'], inplace=True)"
   ]
  },
  {
   "cell_type": "code",
   "execution_count": 266,
   "metadata": {},
   "outputs": [],
   "source": [
    "mapping_df = pd.read_csv('./data/commune_mapping.csv')\n",
    "mapping_dict = {row.chinesename: row.filename for row in mapping_df.itertuples()}"
   ]
  },
  {
   "cell_type": "code",
   "execution_count": 261,
   "metadata": {},
   "outputs": [],
   "source": [
    "res = pd.DataFrame(gdf_filtered.drop(columns=['geometry']))\n",
    "res_grouped = res.groupby('commune')"
   ]
  },
  {
   "cell_type": "code",
   "execution_count": 262,
   "metadata": {},
   "outputs": [],
   "source": [
    "commune_name = [grp for grp, _ in res_grouped]\n",
    "commune_data = [df for _, df in res_grouped]\n",
    "\n",
    "Taoyuan = '桃源村'\n",
    "Taoyuan_indices = np.argwhere(np.array([name.find(Taoyuan) > -1 for name in commune_name])).flatten().tolist()"
   ]
  },
  {
   "cell_type": "code",
   "execution_count": 263,
   "metadata": {},
   "outputs": [],
   "source": [
    "ans = [commune_data[idx] for idx in Taoyuan_indices]\n",
    "ans = pd.concat(ans)\n",
    "\n",
    "# remove the data list by index\n",
    "commune_data = [df for i, df in enumerate(commune_data) if i not in Taoyuan_indices]\n",
    "commune_data.insert(Taoyuan_indices[0], ans)"
   ]
  },
  {
   "cell_type": "code",
   "execution_count": 267,
   "metadata": {},
   "outputs": [],
   "source": [
    "commune_data.sort(key=lambda df: mapping_dict[df.commune.iloc[0]])"
   ]
  },
  {
   "cell_type": "code",
   "execution_count": 275,
   "metadata": {},
   "outputs": [],
   "source": [
    "# export the data\n",
    "for i, df in enumerate(commune_data):\n",
    "    df.to_csv(f'./data/quinze_juin_dataset/{file_list[i]}', index=False)"
   ]
  },
  {
   "cell_type": "markdown",
   "metadata": {},
   "source": [
    "Sketch"
   ]
  }
 ],
 "metadata": {
  "kernelspec": {
   "display_name": "geoneuro",
   "language": "python",
   "name": "python3"
  },
  "language_info": {
   "codemirror_mode": {
    "name": "ipython",
    "version": 3
   },
   "file_extension": ".py",
   "mimetype": "text/x-python",
   "name": "python",
   "nbconvert_exporter": "python",
   "pygments_lexer": "ipython3",
   "version": "3.9.18"
  }
 },
 "nbformat": 4,
 "nbformat_minor": 2
}
